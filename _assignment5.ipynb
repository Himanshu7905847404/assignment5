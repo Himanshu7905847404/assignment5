{
 "cells": [
  {
   "cell_type": "code",
   "execution_count": 1,
   "id": "02c96bb5-ad00-45e3-8345-c58072f2ba27",
   "metadata": {},
   "outputs": [],
   "source": [
    "# Solutions "
   ]
  },
  {
   "cell_type": "code",
   "execution_count": 2,
   "id": "77c8a9c2-2fa0-4278-b159-b04b12d556f6",
   "metadata": {},
   "outputs": [
    {
     "name": "stdout",
     "output_type": "stream",
     "text": [
      "\n",
      "        Python was created by Guido van Rossum, and first released on February 20, 1991. \n",
      "        While you may know the python as a large snake, \n",
      "        the name of the Python programming language comes \n",
      "        from an old BBC television comedy sketch series called Monty Python's Flying Circus.\n",
      "        \n"
     ]
    }
   ],
   "source": [
    "# Q1.\n",
    "\n",
    "print('''\n",
    "        Python was created by Guido van Rossum, and first released on February 20, 1991. \n",
    "        While you may know the python as a large snake, \n",
    "        the name of the Python programming language comes \n",
    "        from an old BBC television comedy sketch series called Monty Python's Flying Circus.\n",
    "        ''')"
   ]
  },
  {
   "cell_type": "code",
   "execution_count": 3,
   "id": "64af4171-98c7-491b-a0eb-a1fdb7ca0e2b",
   "metadata": {},
   "outputs": [
    {
     "name": "stdout",
     "output_type": "stream",
     "text": [
      "\n",
      "        Python is a multi-paradigm programming language. \n",
      "        Object-oriented programming and structured programming are fully supported, \n",
      "        and many of their features support functional programming and aspect-oriented programming \n",
      "        (including metaprogramming and metaobjects).\n",
      "        \n",
      "        There are four main Python coding styles: \n",
      "        1- imperative\n",
      "        2- functional\n",
      "        3- object-oriented\n",
      "        4- procedural.\n",
      "        \n"
     ]
    }
   ],
   "source": [
    "# Q2.\n",
    "\n",
    "print('''\n",
    "        Python is a multi-paradigm programming language. \n",
    "        Object-oriented programming and structured programming are fully supported, \n",
    "        and many of their features support functional programming and aspect-oriented programming \n",
    "        (including metaprogramming and metaobjects).\n",
    "        \n",
    "        There are four main Python coding styles: \n",
    "        1- imperative\n",
    "        2- functional\n",
    "        3- object-oriented\n",
    "        4- procedural.\n",
    "        ''')"
   ]
  },
  {
   "cell_type": "code",
   "execution_count": 4,
   "id": "57914f27-dfa2-4c02-ae4d-7ec9fc17bc27",
   "metadata": {},
   "outputs": [
    {
     "name": "stdout",
     "output_type": "stream",
     "text": [
      "\n",
      "        Yes, Python is a case-sensitive language, i.e., it treats uppercase and lowercase characters differently. \n",
      "        This applies to identifiers too. You must avoid using the same name with different cases while naming identifiers  \n",
      "        \n"
     ]
    }
   ],
   "source": [
    "# Q3.\n",
    "\n",
    "print('''\n",
    "        Yes, Python is a case-sensitive language, i.e., it treats uppercase and lowercase characters differently. \n",
    "        This applies to identifiers too. You must avoid using the same name with different cases while naming identifiers  \n",
    "        ''')"
   ]
  },
  {
   "cell_type": "code",
   "execution_count": 6,
   "id": "36ac544a-9252-40f7-a3c1-db1bfb18c5ad",
   "metadata": {},
   "outputs": [
    {
     "name": "stdout",
     "output_type": "stream",
     "text": [
      "\n",
      "        \n",
      "        The extensions for Python files are:  . py\n",
      "        \n"
     ]
    }
   ],
   "source": [
    "# Q4.\n",
    "\n",
    "print('''\n",
    "        \n",
    "        The extensions for Python files are:  . py\n",
    "        ''')"
   ]
  },
  {
   "cell_type": "code",
   "execution_count": 8,
   "id": "ddbf0f60-5a31-48f0-b2d5-18f6c72038b3",
   "metadata": {},
   "outputs": [
    {
     "name": "stdout",
     "output_type": "stream",
     "text": [
      "\n",
      "        \n",
      "        Python is an interpreted language,\n",
      "        which means the source code of a Python program is\n",
      "        converted into bytecode that is then executed by the Python virtual machine.\n",
      "        \n"
     ]
    }
   ],
   "source": [
    "# Q5.\n",
    "\n",
    "print('''\n",
    "        \n",
    "        Python is an interpreted language,\n",
    "        which means the source code of a Python program is\n",
    "        converted into bytecode that is then executed by the Python virtual machine.\n",
    "        ''')"
   ]
  },
  {
   "cell_type": "code",
   "execution_count": 11,
   "id": "c7473539-3a07-45b3-a781-83cc7a59cdda",
   "metadata": {},
   "outputs": [
    {
     "name": "stdout",
     "output_type": "stream",
     "text": [
      "\n",
      "        A Python program is constructed from code blocks. \n",
      "        A block is a piece of Python program text that is executed as a unit. \n",
      "        The following are blocks: \n",
      "        a module \n",
      "        a function body \n",
      "        a class definition.\n",
      "        \n",
      "        Each command typed interactively is a block. \n",
      "        A script file (a file given as standard input to the interpreter or\n",
      "        specified as a command line argument to the interpreter) is a code block.\n",
      "        \n",
      "Correct Name!!\n",
      "HI\n"
     ]
    }
   ],
   "source": [
    "# Q6.\n",
    "\n",
    "print('''\n",
    "        A Python program is constructed from code blocks. \n",
    "        A block is a piece of Python program text that is executed as a unit. \n",
    "        The following are blocks: \n",
    "        a module \n",
    "        a function body \n",
    "        a class definition.\n",
    "        \n",
    "        Each command typed interactively is a block. \n",
    "        A script file (a file given as standard input to the interpreter or\n",
    "        specified as a command line argument to the interpreter) is a code block.\n",
    "        ''')\n",
    "# eg.\n",
    "name = 'Alex'\n",
    "    \n",
    "if name == 'Alex':\n",
    "    print('Correct Name!!')\n",
    "else:\n",
    "\tprint('InCorrect Name:(')\n",
    "print('HI')"
   ]
  },
  {
   "cell_type": "code",
   "execution_count": 12,
   "id": "a2fbe4ba-ce8f-4842-9150-cc787596b1a9",
   "metadata": {},
   "outputs": [
    {
     "name": "stdout",
     "output_type": "stream",
     "text": [
      "\n",
      "        # character is used to give single-line comments in python\n",
      "        \n"
     ]
    }
   ],
   "source": [
    "# Q7\n",
    "\n",
    "print('''\n",
    "        # character is used to give single-line comments in python\n",
    "        ''')"
   ]
  },
  {
   "cell_type": "code",
   "execution_count": 18,
   "id": "3d5e89de-80dd-49d9-a79f-fb27054ba74a",
   "metadata": {},
   "outputs": [
    {
     "name": "stdout",
     "output_type": "stream",
     "text": [
      "\n",
      "        To get the Version of the python Interpreter, they are listed as follows:\n",
      "\n",
      "        1- Using sys.version method\n",
      "        2- Using python_version() function\n",
      "        \n",
      "By using sys.version : User Current Version:-\n",
      " 3.10.8 | packaged by conda-forge | (main, Nov 22 2022, 08:26:04) [GCC 10.4.0]\n",
      "\n",
      "By using  python_version Current Python Version-\n",
      " 3.10.8\n"
     ]
    }
   ],
   "source": [
    "# Q8.\n",
    "\n",
    "print('''\n",
    "        To get the Version of the python Interpreter, they are listed as follows:\n",
    "\n",
    "        1- Using sys.version method\n",
    "        2- Using python_version() function\n",
    "        ''')\n",
    "# eg.\n",
    "import sys\n",
    "\n",
    "print(\"By using sys.version : User Current Version:-\\n\", sys.version)\n",
    "\n",
    "from platform import python_version\n",
    " \n",
    "print(\"\\nBy using  python_version Current Python Version-\\n\", python_version())\n"
   ]
  },
  {
   "cell_type": "code",
   "execution_count": 19,
   "id": "deb4e25e-4f99-4525-8fb7-6dbbefa79a89",
   "metadata": {},
   "outputs": [
    {
     "name": "stdout",
     "output_type": "stream",
     "text": [
      "\n",
      "        Python supports to make anonymous functions which are not bound to a name(@ runtime). It uses a construct called \"lambda\" .\n",
      "        \n"
     ]
    }
   ],
   "source": [
    "# Q9.\n",
    "print('''\n",
    "        Python supports to make anonymous functions which are not bound to a name(@ runtime). It uses a construct called \"lambda\" .\n",
    "        ''')"
   ]
  },
  {
   "cell_type": "code",
   "execution_count": 20,
   "id": "16dcf137-e821-4901-970f-a5155a32ccad",
   "metadata": {},
   "outputs": [
    {
     "name": "stdout",
     "output_type": "stream",
     "text": [
      "\n",
      "        PIP is a recursive acronym for “Preferred Installer Program” or PIP Installs Packages.\n",
      "        It is a command-line utility that installs, reinstalls, or uninstalls PyPI packages with one simple command: pip.\n",
      "        \n"
     ]
    }
   ],
   "source": [
    "# Q10.\n",
    "\n",
    "print('''\n",
    "        PIP is a recursive acronym for “Preferred Installer Program” or PIP Installs Packages.\n",
    "        It is a command-line utility that installs, reinstalls, or uninstalls PyPI packages with one simple command: pip.\n",
    "        ''')"
   ]
  },
  {
   "cell_type": "code",
   "execution_count": 21,
   "id": "c686d601-6dd6-4f0f-827d-639dd61ada32",
   "metadata": {},
   "outputs": [
    {
     "name": "stdout",
     "output_type": "stream",
     "text": [
      "\n",
      "        Few Python Built-in Functions:\n",
      "            print( ) function.\n",
      "            type( ) function.\n",
      "            input( ) function.\n",
      "            abs( ) function.\n",
      "            pow( ) function.\n",
      "            dir( ) function.\n",
      "            sorted( ) function.\n",
      "            max( ) function.\n",
      "        \n"
     ]
    }
   ],
   "source": [
    "# Q11.\n",
    "\n",
    "print('''\n",
    "        Few Python Built-in Functions:\n",
    "            print( ) function.\n",
    "            type( ) function.\n",
    "            input( ) function.\n",
    "            abs( ) function.\n",
    "            pow( ) function.\n",
    "            dir( ) function.\n",
    "            sorted( ) function.\n",
    "            max( ) function.\n",
    "        ''')"
   ]
  },
  {
   "cell_type": "code",
   "execution_count": 22,
   "id": "19de0796-fa82-4f69-ad53-c23bf6d3b641",
   "metadata": {},
   "outputs": [
    {
     "name": "stdout",
     "output_type": "stream",
     "text": [
      "\n",
      "        An identifier can have a maximum length of 79 characters in Python.\n",
      "        \n"
     ]
    }
   ],
   "source": [
    "# Q12.\n",
    "\n",
    "print('''\n",
    "        An identifier can have a maximum length of 79 characters in Python.\n",
    "        ''')"
   ]
  },
  {
   "cell_type": "code",
   "execution_count": 24,
   "id": "0cea6255-e7c5-42cd-98e0-3fdeda757a2b",
   "metadata": {},
   "outputs": [
    {
     "name": "stdout",
     "output_type": "stream",
     "text": [
      "\n",
      "        Almost all of the tasks done in Python requires less coding when the same task is done in other languages. \n",
      "        Python also has awesome standard library support, so you don't have to search for any third-party libraries to get your job done.\n",
      "       \n",
      "       Python programming is a general-purpose skill used in almost all fields, including: \n",
      "\n",
      "                Data science\n",
      "                Scientific and mathematical computing\n",
      "                Web development\n",
      "                Finance and trading\n",
      "                System automation and administration\n",
      "                Computer graphics\n",
      "                Basic game development\n",
      "                Security and penetration testing\n",
      "                General and application-specific scripting\n",
      "                Mapping and geography (GIS software)\n",
      "                \n"
     ]
    }
   ],
   "source": [
    "# Q13.\n",
    "\n",
    "print('''\n",
    "        Almost all of the tasks done in Python requires less coding when the same task is done in other languages. \n",
    "        Python also has awesome standard library support, so you don't have to search for any third-party libraries to get your job done.\n",
    "       \n",
    "       Python programming is a general-purpose skill used in almost all fields, including: \n",
    "\n",
    "                Data science\n",
    "                Scientific and mathematical computing\n",
    "                Web development\n",
    "                Finance and trading\n",
    "                System automation and administration\n",
    "                Computer graphics\n",
    "                Basic game development\n",
    "                Security and penetration testing\n",
    "                General and application-specific scripting\n",
    "                Mapping and geography (GIS software)\n",
    "                ''')"
   ]
  },
  {
   "cell_type": "code",
   "execution_count": 25,
   "id": "9aa50bc7-8e2a-4499-a687-f133ba6dedc4",
   "metadata": {},
   "outputs": [
    {
     "name": "stdout",
     "output_type": "stream",
     "text": [
      "\n",
      "        Memory management in Python involves a private heap containing all Python objects and data structures. \n",
      "        The management of this private heap is ensured internally by the Python memory manager.\n",
      "        \n"
     ]
    }
   ],
   "source": [
    "#Q14.\n",
    "\n",
    "print('''\n",
    "        Memory management in Python involves a private heap containing all Python objects and data structures. \n",
    "        The management of this private heap is ensured internally by the Python memory manager.\n",
    "        ''')"
   ]
  },
  {
   "cell_type": "code",
   "execution_count": 26,
   "id": "2c0786e7-cd80-4256-8c85-27f383157d7f",
   "metadata": {},
   "outputs": [
    {
     "name": "stdout",
     "output_type": "stream",
     "text": [
      "\n",
      "        Install python from this link https://www.python.org/downloads/\n",
      "        After this, install it on your PC. Look for the location where \n",
      "        PYTHON has been installed on your PC using tge following command on your command prompt: cmd python.\n",
      " \n",
      "          \n",
      "        Then go to advanced system settings and add new variable and name it as PYTHON_NAME and paste the copied path.\n",
      "        Then look for the path variable, select it's value and select edit\n",
      "        Add a semicolon towards the end of the value if it's not present and then type %PYTHON_HOME%\n",
      "        \n"
     ]
    }
   ],
   "source": [
    "# Q15.\n",
    "\n",
    "print('''\n",
    "        Install python from this link https://www.python.org/downloads/\n",
    "        After this, install it on your PC. Look for the location where \n",
    "        PYTHON has been installed on your PC using tge following command on your command prompt: cmd python.\n",
    " \n",
    "          \n",
    "        Then go to advanced system settings and add new variable and name it as PYTHON_NAME and paste the copied path.\n",
    "        Then look for the path variable, select it's value and select edit\n",
    "        Add a semicolon towards the end of the value if it's not present and then type %PYTHON_HOME%\n",
    "        ''')"
   ]
  },
  {
   "cell_type": "code",
   "execution_count": 27,
   "id": "c5342a28-97a0-43f1-aeff-7807eafca699",
   "metadata": {},
   "outputs": [
    {
     "name": "stdout",
     "output_type": "stream",
     "text": [
      "\n",
      "        Indentation refers to the spaces at the beginning of a code line.\n",
      "\n",
      "        Where in other programming languages the indentation in code is for readability only, \n",
      "        the indentation in Python is very important.\n",
      "\n",
      "        Python uses indentation to indicate a block of code.\n",
      "        \n"
     ]
    }
   ],
   "source": [
    "#Q16.\n",
    "\n",
    "print('''\n",
    "        Indentation refers to the spaces at the beginning of a code line.\n",
    "\n",
    "        Where in other programming languages the indentation in code is for readability only, \n",
    "        the indentation in Python is very important.\n",
    "\n",
    "        Python uses indentation to indicate a block of code.\n",
    "        ''')"
   ]
  },
  {
   "cell_type": "code",
   "execution_count": null,
   "id": "de9b1936-d499-4c35-9e88-4c5bdba710d5",
   "metadata": {},
   "outputs": [],
   "source": []
  }
 ],
 "metadata": {
  "kernelspec": {
   "display_name": "Python 3 (ipykernel)",
   "language": "python",
   "name": "python3"
  },
  "language_info": {
   "codemirror_mode": {
    "name": "ipython",
    "version": 3
   },
   "file_extension": ".py",
   "mimetype": "text/x-python",
   "name": "python",
   "nbconvert_exporter": "python",
   "pygments_lexer": "ipython3",
   "version": "3.10.8"
  }
 },
 "nbformat": 4,
 "nbformat_minor": 5
}
